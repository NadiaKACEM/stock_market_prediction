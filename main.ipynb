{
 "cells": [
  {
   "cell_type": "markdown",
   "id": "12c482cc",
   "metadata": {},
   "source": [
    "## Import libraries\n"
   ]
  },
  {
   "cell_type": "code",
   "execution_count": 1,
   "id": "b6004884",
   "metadata": {},
   "outputs": [
    {
     "name": "stdout",
     "output_type": "stream",
     "text": [
      "Requirement already satisfied: yfinance in c:\\users\\legion 5\\anaconda3\\lib\\site-packages (0.2.33)\n",
      "Requirement already satisfied: pandas>=1.3.0 in c:\\users\\legion 5\\anaconda3\\lib\\site-packages (from yfinance) (2.0.3)\n",
      "Requirement already satisfied: numpy>=1.16.5 in c:\\users\\legion 5\\anaconda3\\lib\\site-packages (from yfinance) (1.24.3)\n",
      "Requirement already satisfied: requests>=2.31 in c:\\users\\legion 5\\anaconda3\\lib\\site-packages (from yfinance) (2.31.0)\n",
      "Requirement already satisfied: multitasking>=0.0.7 in c:\\users\\legion 5\\anaconda3\\lib\\site-packages (from yfinance) (0.0.11)\n",
      "Requirement already satisfied: lxml>=4.9.1 in c:\\users\\legion 5\\anaconda3\\lib\\site-packages (from yfinance) (4.9.3)\n",
      "Requirement already satisfied: appdirs>=1.4.4 in c:\\users\\legion 5\\anaconda3\\lib\\site-packages (from yfinance) (1.4.4)\n",
      "Requirement already satisfied: pytz>=2022.5 in c:\\users\\legion 5\\anaconda3\\lib\\site-packages (from yfinance) (2023.3.post1)\n",
      "Requirement already satisfied: frozendict>=2.3.4 in c:\\users\\legion 5\\anaconda3\\lib\\site-packages (from yfinance) (2.3.10)\n",
      "Requirement already satisfied: peewee>=3.16.2 in c:\\users\\legion 5\\anaconda3\\lib\\site-packages (from yfinance) (3.17.0)\n",
      "Requirement already satisfied: beautifulsoup4>=4.11.1 in c:\\users\\legion 5\\anaconda3\\lib\\site-packages (from yfinance) (4.12.2)\n",
      "Requirement already satisfied: html5lib>=1.1 in c:\\users\\legion 5\\anaconda3\\lib\\site-packages (from yfinance) (1.1)\n",
      "Requirement already satisfied: soupsieve>1.2 in c:\\users\\legion 5\\anaconda3\\lib\\site-packages (from beautifulsoup4>=4.11.1->yfinance) (2.4)\n",
      "Requirement already satisfied: six>=1.9 in c:\\users\\legion 5\\anaconda3\\lib\\site-packages (from html5lib>=1.1->yfinance) (1.16.0)\n",
      "Requirement already satisfied: webencodings in c:\\users\\legion 5\\anaconda3\\lib\\site-packages (from html5lib>=1.1->yfinance) (0.5.1)\n",
      "Requirement already satisfied: python-dateutil>=2.8.2 in c:\\users\\legion 5\\anaconda3\\lib\\site-packages (from pandas>=1.3.0->yfinance) (2.8.2)\n",
      "Requirement already satisfied: tzdata>=2022.1 in c:\\users\\legion 5\\anaconda3\\lib\\site-packages (from pandas>=1.3.0->yfinance) (2023.3)\n",
      "Requirement already satisfied: charset-normalizer<4,>=2 in c:\\users\\legion 5\\anaconda3\\lib\\site-packages (from requests>=2.31->yfinance) (2.0.4)\n",
      "Requirement already satisfied: idna<4,>=2.5 in c:\\users\\legion 5\\anaconda3\\lib\\site-packages (from requests>=2.31->yfinance) (3.4)\n",
      "Requirement already satisfied: urllib3<3,>=1.21.1 in c:\\users\\legion 5\\anaconda3\\lib\\site-packages (from requests>=2.31->yfinance) (1.26.16)\n",
      "Requirement already satisfied: certifi>=2017.4.17 in c:\\users\\legion 5\\anaconda3\\lib\\site-packages (from requests>=2.31->yfinance) (2023.7.22)\n",
      "Note: you may need to restart the kernel to use updated packages.\n"
     ]
    }
   ],
   "source": [
    "pip install yfinance"
   ]
  },
  {
   "cell_type": "code",
   "execution_count": 2,
   "id": "084a3975",
   "metadata": {},
   "outputs": [],
   "source": [
    "#we will use the yahoo finance stock index prices\n",
    "import yfinance as yf\n",
    "import pandas as pd"
   ]
  },
  {
   "cell_type": "code",
   "execution_count": 3,
   "id": "520f1c83",
   "metadata": {},
   "outputs": [],
   "source": [
    "#ticker allows us to download the price history for a single symbole\n",
    "sp500 = yf.Ticker(\"^GSPC\")"
   ]
  },
  {
   "cell_type": "code",
   "execution_count": 4,
   "id": "eb098487",
   "metadata": {},
   "outputs": [],
   "source": [
    "#let use history to query all the data\n",
    "sp500 = sp500.history(period=\"max\")\n"
   ]
  },
  {
   "cell_type": "code",
   "execution_count": 5,
   "id": "a6c8dd95",
   "metadata": {},
   "outputs": [
    {
     "data": {
      "text/html": [
       "<div>\n",
       "<style scoped>\n",
       "    .dataframe tbody tr th:only-of-type {\n",
       "        vertical-align: middle;\n",
       "    }\n",
       "\n",
       "    .dataframe tbody tr th {\n",
       "        vertical-align: top;\n",
       "    }\n",
       "\n",
       "    .dataframe thead th {\n",
       "        text-align: right;\n",
       "    }\n",
       "</style>\n",
       "<table border=\"1\" class=\"dataframe\">\n",
       "  <thead>\n",
       "    <tr style=\"text-align: right;\">\n",
       "      <th></th>\n",
       "      <th>Open</th>\n",
       "      <th>High</th>\n",
       "      <th>Low</th>\n",
       "      <th>Close</th>\n",
       "      <th>Volume</th>\n",
       "      <th>Dividends</th>\n",
       "      <th>Stock Splits</th>\n",
       "    </tr>\n",
       "    <tr>\n",
       "      <th>Date</th>\n",
       "      <th></th>\n",
       "      <th></th>\n",
       "      <th></th>\n",
       "      <th></th>\n",
       "      <th></th>\n",
       "      <th></th>\n",
       "      <th></th>\n",
       "    </tr>\n",
       "  </thead>\n",
       "  <tbody>\n",
       "    <tr>\n",
       "      <th>1927-12-30 00:00:00-05:00</th>\n",
       "      <td>17.660000</td>\n",
       "      <td>17.660000</td>\n",
       "      <td>17.660000</td>\n",
       "      <td>17.660000</td>\n",
       "      <td>0</td>\n",
       "      <td>0.0</td>\n",
       "      <td>0.0</td>\n",
       "    </tr>\n",
       "    <tr>\n",
       "      <th>1928-01-03 00:00:00-05:00</th>\n",
       "      <td>17.760000</td>\n",
       "      <td>17.760000</td>\n",
       "      <td>17.760000</td>\n",
       "      <td>17.760000</td>\n",
       "      <td>0</td>\n",
       "      <td>0.0</td>\n",
       "      <td>0.0</td>\n",
       "    </tr>\n",
       "    <tr>\n",
       "      <th>1928-01-04 00:00:00-05:00</th>\n",
       "      <td>17.719999</td>\n",
       "      <td>17.719999</td>\n",
       "      <td>17.719999</td>\n",
       "      <td>17.719999</td>\n",
       "      <td>0</td>\n",
       "      <td>0.0</td>\n",
       "      <td>0.0</td>\n",
       "    </tr>\n",
       "    <tr>\n",
       "      <th>1928-01-05 00:00:00-05:00</th>\n",
       "      <td>17.549999</td>\n",
       "      <td>17.549999</td>\n",
       "      <td>17.549999</td>\n",
       "      <td>17.549999</td>\n",
       "      <td>0</td>\n",
       "      <td>0.0</td>\n",
       "      <td>0.0</td>\n",
       "    </tr>\n",
       "    <tr>\n",
       "      <th>1928-01-06 00:00:00-05:00</th>\n",
       "      <td>17.660000</td>\n",
       "      <td>17.660000</td>\n",
       "      <td>17.660000</td>\n",
       "      <td>17.660000</td>\n",
       "      <td>0</td>\n",
       "      <td>0.0</td>\n",
       "      <td>0.0</td>\n",
       "    </tr>\n",
       "    <tr>\n",
       "      <th>...</th>\n",
       "      <td>...</td>\n",
       "      <td>...</td>\n",
       "      <td>...</td>\n",
       "      <td>...</td>\n",
       "      <td>...</td>\n",
       "      <td>...</td>\n",
       "      <td>...</td>\n",
       "    </tr>\n",
       "    <tr>\n",
       "      <th>2023-12-22 00:00:00-05:00</th>\n",
       "      <td>4753.919922</td>\n",
       "      <td>4772.939941</td>\n",
       "      <td>4736.770020</td>\n",
       "      <td>4754.629883</td>\n",
       "      <td>3046770000</td>\n",
       "      <td>0.0</td>\n",
       "      <td>0.0</td>\n",
       "    </tr>\n",
       "    <tr>\n",
       "      <th>2023-12-26 00:00:00-05:00</th>\n",
       "      <td>4758.859863</td>\n",
       "      <td>4784.720215</td>\n",
       "      <td>4758.450195</td>\n",
       "      <td>4774.750000</td>\n",
       "      <td>2513910000</td>\n",
       "      <td>0.0</td>\n",
       "      <td>0.0</td>\n",
       "    </tr>\n",
       "    <tr>\n",
       "      <th>2023-12-27 00:00:00-05:00</th>\n",
       "      <td>4773.450195</td>\n",
       "      <td>4785.390137</td>\n",
       "      <td>4768.899902</td>\n",
       "      <td>4781.580078</td>\n",
       "      <td>2748450000</td>\n",
       "      <td>0.0</td>\n",
       "      <td>0.0</td>\n",
       "    </tr>\n",
       "    <tr>\n",
       "      <th>2023-12-28 00:00:00-05:00</th>\n",
       "      <td>4786.439941</td>\n",
       "      <td>4793.299805</td>\n",
       "      <td>4780.979980</td>\n",
       "      <td>4783.350098</td>\n",
       "      <td>2698860000</td>\n",
       "      <td>0.0</td>\n",
       "      <td>0.0</td>\n",
       "    </tr>\n",
       "    <tr>\n",
       "      <th>2023-12-29 00:00:00-05:00</th>\n",
       "      <td>4782.879883</td>\n",
       "      <td>4788.430176</td>\n",
       "      <td>4751.990234</td>\n",
       "      <td>4769.830078</td>\n",
       "      <td>3126060000</td>\n",
       "      <td>0.0</td>\n",
       "      <td>0.0</td>\n",
       "    </tr>\n",
       "  </tbody>\n",
       "</table>\n",
       "<p>24115 rows × 7 columns</p>\n",
       "</div>"
      ],
      "text/plain": [
       "                                  Open         High          Low        Close  \\\n",
       "Date                                                                            \n",
       "1927-12-30 00:00:00-05:00    17.660000    17.660000    17.660000    17.660000   \n",
       "1928-01-03 00:00:00-05:00    17.760000    17.760000    17.760000    17.760000   \n",
       "1928-01-04 00:00:00-05:00    17.719999    17.719999    17.719999    17.719999   \n",
       "1928-01-05 00:00:00-05:00    17.549999    17.549999    17.549999    17.549999   \n",
       "1928-01-06 00:00:00-05:00    17.660000    17.660000    17.660000    17.660000   \n",
       "...                                ...          ...          ...          ...   \n",
       "2023-12-22 00:00:00-05:00  4753.919922  4772.939941  4736.770020  4754.629883   \n",
       "2023-12-26 00:00:00-05:00  4758.859863  4784.720215  4758.450195  4774.750000   \n",
       "2023-12-27 00:00:00-05:00  4773.450195  4785.390137  4768.899902  4781.580078   \n",
       "2023-12-28 00:00:00-05:00  4786.439941  4793.299805  4780.979980  4783.350098   \n",
       "2023-12-29 00:00:00-05:00  4782.879883  4788.430176  4751.990234  4769.830078   \n",
       "\n",
       "                               Volume  Dividends  Stock Splits  \n",
       "Date                                                            \n",
       "1927-12-30 00:00:00-05:00           0        0.0           0.0  \n",
       "1928-01-03 00:00:00-05:00           0        0.0           0.0  \n",
       "1928-01-04 00:00:00-05:00           0        0.0           0.0  \n",
       "1928-01-05 00:00:00-05:00           0        0.0           0.0  \n",
       "1928-01-06 00:00:00-05:00           0        0.0           0.0  \n",
       "...                               ...        ...           ...  \n",
       "2023-12-22 00:00:00-05:00  3046770000        0.0           0.0  \n",
       "2023-12-26 00:00:00-05:00  2513910000        0.0           0.0  \n",
       "2023-12-27 00:00:00-05:00  2748450000        0.0           0.0  \n",
       "2023-12-28 00:00:00-05:00  2698860000        0.0           0.0  \n",
       "2023-12-29 00:00:00-05:00  3126060000        0.0           0.0  \n",
       "\n",
       "[24115 rows x 7 columns]"
      ]
     },
     "execution_count": 5,
     "metadata": {},
     "output_type": "execute_result"
    }
   ],
   "source": [
    "sp500"
   ]
  },
  {
   "cell_type": "code",
   "execution_count": 6,
   "id": "fe8fcd5b",
   "metadata": {},
   "outputs": [
    {
     "data": {
      "text/plain": [
       "DatetimeIndex(['1927-12-30 00:00:00-05:00', '1928-01-03 00:00:00-05:00',\n",
       "               '1928-01-04 00:00:00-05:00', '1928-01-05 00:00:00-05:00',\n",
       "               '1928-01-06 00:00:00-05:00', '1928-01-09 00:00:00-05:00',\n",
       "               '1928-01-10 00:00:00-05:00', '1928-01-11 00:00:00-05:00',\n",
       "               '1928-01-12 00:00:00-05:00', '1928-01-13 00:00:00-05:00',\n",
       "               ...\n",
       "               '2023-12-15 00:00:00-05:00', '2023-12-18 00:00:00-05:00',\n",
       "               '2023-12-19 00:00:00-05:00', '2023-12-20 00:00:00-05:00',\n",
       "               '2023-12-21 00:00:00-05:00', '2023-12-22 00:00:00-05:00',\n",
       "               '2023-12-26 00:00:00-05:00', '2023-12-27 00:00:00-05:00',\n",
       "               '2023-12-28 00:00:00-05:00', '2023-12-29 00:00:00-05:00'],\n",
       "              dtype='datetime64[ns, America/New_York]', name='Date', length=24115, freq=None)"
      ]
     },
     "execution_count": 6,
     "metadata": {},
     "output_type": "execute_result"
    }
   ],
   "source": [
    "#our index is the data column\n",
    "sp500.index"
   ]
  },
  {
   "cell_type": "markdown",
   "id": "ed312050",
   "metadata": {},
   "source": [
    "## Cleaning and visualizing "
   ]
  },
  {
   "cell_type": "code",
   "execution_count": 7,
   "id": "d5b4732c",
   "metadata": {},
   "outputs": [
    {
     "data": {
      "text/plain": [
       "<Axes: xlabel='Date'>"
      ]
     },
     "execution_count": 7,
     "metadata": {},
     "output_type": "execute_result"
    },
    {
     "data": {
      "image/png": "[encoded data removed]",
      "text/plain": [
       "<Figure size 640x480 with 1 Axes>"
      ]
     },
     "metadata": {},
     "output_type": "display_data"
    }
   ],
   "source": [
    "sp500.plot.line(y='Close', use_index=True)"
   ]
  },
  {
   "cell_type": "code",
   "execution_count": 8,
   "id": "e50fe1af",
   "metadata": {},
   "outputs": [],
   "source": [
    "del sp500[\"Dividends\"]\n",
    "del sp500[\"Stock Splits\"]"
   ]
  },
  {
   "cell_type": "markdown",
   "id": "243d8e57",
   "metadata": {},
   "source": [
    "## Prediction"
   ]
  },
  {
   "cell_type": "code",
   "execution_count": 9,
   "id": "663651e3",
   "metadata": {},
   "outputs": [],
   "source": [
    "#let predict if the stock will go up or no"
   ]
  },
  {
   "cell_type": "code",
   "execution_count": 10,
   "id": "c12cf405",
   "metadata": {},
   "outputs": [],
   "source": [
    "sp500['Tomorrow']= sp500[\"Close\"].shift(-1)"
   ]
  },
  {
   "cell_type": "code",
   "execution_count": 11,
   "id": "4d805256",
   "metadata": {},
   "outputs": [
    {
     "data": {
      "text/html": [
       "<div>\n",
       "<style scoped>\n",
       "    .dataframe tbody tr th:only-of-type {\n",
       "        vertical-align: middle;\n",
       "    }\n",
       "\n",
       "    .dataframe tbody tr th {\n",
       "        vertical-align: top;\n",
       "    }\n",
       "\n",
       "    .dataframe thead th {\n",
       "        text-align: right;\n",
       "    }\n",
       "</style>\n",
       "<table border=\"1\" class=\"dataframe\">\n",
       "  <thead>\n",
       "    <tr style=\"text-align: right;\">\n",
       "      <th></th>\n",
       "      <th>Open</th>\n",
       "      <th>High</th>\n",
       "      <th>Low</th>\n",
       "      <th>Close</th>\n",
       "      <th>Volume</th>\n",
       "      <th>Tomorrow</th>\n",
       "    </tr>\n",
       "    <tr>\n",
       "      <th>Date</th>\n",
       "      <th></th>\n",
       "      <th></th>\n",
       "      <th></th>\n",
       "      <th></th>\n",
       "      <th></th>\n",
       "      <th></th>\n",
       "    </tr>\n",
       "  </thead>\n",
       "  <tbody>\n",
       "    <tr>\n",
       "      <th>1927-12-30 00:00:00-05:00</th>\n",
       "      <td>17.660000</td>\n",
       "      <td>17.660000</td>\n",
       "      <td>17.660000</td>\n",
       "      <td>17.660000</td>\n",
       "      <td>0</td>\n",
       "      <td>17.760000</td>\n",
       "    </tr>\n",
       "    <tr>\n",
       "      <th>1928-01-03 00:00:00-05:00</th>\n",
       "      <td>17.760000</td>\n",
       "      <td>17.760000</td>\n",
       "      <td>17.760000</td>\n",
       "      <td>17.760000</td>\n",
       "      <td>0</td>\n",
       "      <td>17.719999</td>\n",
       "    </tr>\n",
       "    <tr>\n",
       "      <th>1928-01-04 00:00:00-05:00</th>\n",
       "      <td>17.719999</td>\n",
       "      <td>17.719999</td>\n",
       "      <td>17.719999</td>\n",
       "      <td>17.719999</td>\n",
       "      <td>0</td>\n",
       "      <td>17.549999</td>\n",
       "    </tr>\n",
       "    <tr>\n",
       "      <th>1928-01-05 00:00:00-05:00</th>\n",
       "      <td>17.549999</td>\n",
       "      <td>17.549999</td>\n",
       "      <td>17.549999</td>\n",
       "      <td>17.549999</td>\n",
       "      <td>0</td>\n",
       "      <td>17.660000</td>\n",
       "    </tr>\n",
       "    <tr>\n",
       "      <th>1928-01-06 00:00:00-05:00</th>\n",
       "      <td>17.660000</td>\n",
       "      <td>17.660000</td>\n",
       "      <td>17.660000</td>\n",
       "      <td>17.660000</td>\n",
       "      <td>0</td>\n",
       "      <td>17.500000</td>\n",
       "    </tr>\n",
       "    <tr>\n",
       "      <th>...</th>\n",
       "      <td>...</td>\n",
       "      <td>...</td>\n",
       "      <td>...</td>\n",
       "      <td>...</td>\n",
       "      <td>...</td>\n",
       "      <td>...</td>\n",
       "    </tr>\n",
       "    <tr>\n",
       "      <th>2023-12-22 00:00:00-05:00</th>\n",
       "      <td>4753.919922</td>\n",
       "      <td>4772.939941</td>\n",
       "      <td>4736.770020</td>\n",
       "      <td>4754.629883</td>\n",
       "      <td>3046770000</td>\n",
       "      <td>4774.750000</td>\n",
       "    </tr>\n",
       "    <tr>\n",
       "      <th>2023-12-26 00:00:00-05:00</th>\n",
       "      <td>4758.859863</td>\n",
       "      <td>4784.720215</td>\n",
       "      <td>4758.450195</td>\n",
       "      <td>4774.750000</td>\n",
       "      <td>2513910000</td>\n",
       "      <td>4781.580078</td>\n",
       "    </tr>\n",
       "    <tr>\n",
       "      <th>2023-12-27 00:00:00-05:00</th>\n",
       "      <td>4773.450195</td>\n",
       "      <td>4785.390137</td>\n",
       "      <td>4768.899902</td>\n",
       "      <td>4781.580078</td>\n",
       "      <td>2748450000</td>\n",
       "      <td>4783.350098</td>\n",
       "    </tr>\n",
       "    <tr>\n",
       "      <th>2023-12-28 00:00:00-05:00</th>\n",
       "      <td>4786.439941</td>\n",
       "      <td>4793.299805</td>\n",
       "      <td>4780.979980</td>\n",
       "      <td>4783.350098</td>\n",
       "      <td>2698860000</td>\n",
       "      <td>4769.830078</td>\n",
       "    </tr>\n",
       "    <tr>\n",
       "      <th>2023-12-29 00:00:00-05:00</th>\n",
       "      <td>4782.879883</td>\n",
       "      <td>4788.430176</td>\n",
       "      <td>4751.990234</td>\n",
       "      <td>4769.830078</td>\n",
       "      <td>3126060000</td>\n",
       "      <td>NaN</td>\n",
       "    </tr>\n",
       "  </tbody>\n",
       "</table>\n",
       "<p>24115 rows × 6 columns</p>\n",
       "</div>"
      ],
      "text/plain": [
       "                                  Open         High          Low        Close  \\\n",
       "Date                                                                            \n",
       "1927-12-30 00:00:00-05:00    17.660000    17.660000    17.660000    17.660000   \n",
       "1928-01-03 00:00:00-05:00    17.760000    17.760000    17.760000    17.760000   \n",
       "1928-01-04 00:00:00-05:00    17.719999    17.719999    17.719999    17.719999   \n",
       "1928-01-05 00:00:00-05:00    17.549999    17.549999    17.549999    17.549999   \n",
       "1928-01-06 00:00:00-05:00    17.660000    17.660000    17.660000    17.660000   \n",
       "...                                ...          ...          ...          ...   \n",
       "2023-12-22 00:00:00-05:00  4753.919922  4772.939941  4736.770020  4754.629883   \n",
       "2023-12-26 00:00:00-05:00  4758.859863  4784.720215  4758.450195  4774.750000   \n",
       "2023-12-27 00:00:00-05:00  4773.450195  4785.390137  4768.899902  4781.580078   \n",
       "2023-12-28 00:00:00-05:00  4786.439941  4793.299805  4780.979980  4783.350098   \n",
       "2023-12-29 00:00:00-05:00  4782.879883  4788.430176  4751.990234  4769.830078   \n",
       "\n",
       "                               Volume     Tomorrow  \n",
       "Date                                                \n",
       "1927-12-30 00:00:00-05:00           0    17.760000  \n",
       "1928-01-03 00:00:00-05:00           0    17.719999  \n",
       "1928-01-04 00:00:00-05:00           0    17.549999  \n",
       "1928-01-05 00:00:00-05:00           0    17.660000  \n",
       "1928-01-06 00:00:00-05:00           0    17.500000  \n",
       "...                               ...          ...  \n",
       "2023-12-22 00:00:00-05:00  3046770000  4774.750000  \n",
       "2023-12-26 00:00:00-05:00  2513910000  4781.580078  \n",
       "2023-12-27 00:00:00-05:00  2748450000  4783.350098  \n",
       "2023-12-28 00:00:00-05:00  2698860000  4769.830078  \n",
       "2023-12-29 00:00:00-05:00  3126060000          NaN  \n",
       "\n",
       "[24115 rows x 6 columns]"
      ]
     },
     "execution_count": 11,
     "metadata": {},
     "output_type": "execute_result"
    }
   ],
   "source": [
    "sp500"
   ]
  },
  {
   "cell_type": "code",
   "execution_count": 12,
   "id": "6288a114",
   "metadata": {},
   "outputs": [],
   "source": [
    "#let set up our target, astype to make it integer\n",
    "sp500[\"Target\"] = (sp500[\"Tomorrow\"] > sp500[\"Close\"]).astype(int)"
   ]
  },
  {
   "cell_type": "code",
   "execution_count": 13,
   "id": "b175fdba",
   "metadata": {},
   "outputs": [
    {
     "data": {
      "text/html": [
       "<div>\n",
       "<style scoped>\n",
       "    .dataframe tbody tr th:only-of-type {\n",
       "        vertical-align: middle;\n",
       "    }\n",
       "\n",
       "    .dataframe tbody tr th {\n",
       "        vertical-align: top;\n",
       "    }\n",
       "\n",
       "    .dataframe thead th {\n",
       "        text-align: right;\n",
       "    }\n",
       "</style>\n",
       "<table border=\"1\" class=\"dataframe\">\n",
       "  <thead>\n",
       "    <tr style=\"text-align: right;\">\n",
       "      <th></th>\n",
       "      <th>Open</th>\n",
       "      <th>High</th>\n",
       "      <th>Low</th>\n",
       "      <th>Close</th>\n",
       "      <th>Volume</th>\n",
       "      <th>Tomorrow</th>\n",
       "      <th>Target</th>\n",
       "    </tr>\n",
       "    <tr>\n",
       "      <th>Date</th>\n",
       "      <th></th>\n",
       "      <th></th>\n",
       "      <th></th>\n",
       "      <th></th>\n",
       "      <th></th>\n",
       "      <th></th>\n",
       "      <th></th>\n",
       "    </tr>\n",
       "  </thead>\n",
       "  <tbody>\n",
       "    <tr>\n",
       "      <th>1927-12-30 00:00:00-05:00</th>\n",
       "      <td>17.660000</td>\n",
       "      <td>17.660000</td>\n",
       "      <td>17.660000</td>\n",
       "      <td>17.660000</td>\n",
       "      <td>0</td>\n",
       "      <td>17.760000</td>\n",
       "      <td>1</td>\n",
       "    </tr>\n",
       "    <tr>\n",
       "      <th>1928-01-03 00:00:00-05:00</th>\n",
       "      <td>17.760000</td>\n",
       "      <td>17.760000</td>\n",
       "      <td>17.760000</td>\n",
       "      <td>17.760000</td>\n",
       "      <td>0</td>\n",
       "      <td>17.719999</td>\n",
       "      <td>0</td>\n",
       "    </tr>\n",
       "    <tr>\n",
       "      <th>1928-01-04 00:00:00-05:00</th>\n",
       "      <td>17.719999</td>\n",
       "      <td>17.719999</td>\n",
       "      <td>17.719999</td>\n",
       "      <td>17.719999</td>\n",
       "      <td>0</td>\n",
       "      <td>17.549999</td>\n",
       "      <td>0</td>\n",
       "    </tr>\n",
       "    <tr>\n",
       "      <th>1928-01-05 00:00:00-05:00</th>\n",
       "      <td>17.549999</td>\n",
       "      <td>17.549999</td>\n",
       "      <td>17.549999</td>\n",
       "      <td>17.549999</td>\n",
       "      <td>0</td>\n",
       "      <td>17.660000</td>\n",
       "      <td>1</td>\n",
       "    </tr>\n",
       "    <tr>\n",
       "      <th>1928-01-06 00:00:00-05:00</th>\n",
       "      <td>17.660000</td>\n",
       "      <td>17.660000</td>\n",
       "      <td>17.660000</td>\n",
       "      <td>17.660000</td>\n",
       "      <td>0</td>\n",
       "      <td>17.500000</td>\n",
       "      <td>0</td>\n",
       "    </tr>\n",
       "    <tr>\n",
       "      <th>...</th>\n",
       "      <td>...</td>\n",
       "      <td>...</td>\n",
       "      <td>...</td>\n",
       "      <td>...</td>\n",
       "      <td>...</td>\n",
       "      <td>...</td>\n",
       "      <td>...</td>\n",
       "    </tr>\n",
       "    <tr>\n",
       "      <th>2023-12-22 00:00:00-05:00</th>\n",
       "      <td>4753.919922</td>\n",
       "      <td>4772.939941</td>\n",
       "      <td>4736.770020</td>\n",
       "      <td>4754.629883</td>\n",
       "      <td>3046770000</td>\n",
       "      <td>4774.750000</td>\n",
       "      <td>1</td>\n",
       "    </tr>\n",
       "    <tr>\n",
       "      <th>2023-12-26 00:00:00-05:00</th>\n",
       "      <td>4758.859863</td>\n",
       "      <td>4784.720215</td>\n",
       "      <td>4758.450195</td>\n",
       "      <td>4774.750000</td>\n",
       "      <td>2513910000</td>\n",
       "      <td>4781.580078</td>\n",
       "      <td>1</td>\n",
       "    </tr>\n",
       "    <tr>\n",
       "      <th>2023-12-27 00:00:00-05:00</th>\n",
       "      <td>4773.450195</td>\n",
       "      <td>4785.390137</td>\n",
       "      <td>4768.899902</td>\n",
       "      <td>4781.580078</td>\n",
       "      <td>2748450000</td>\n",
       "      <td>4783.350098</td>\n",
       "      <td>1</td>\n",
       "    </tr>\n",
       "    <tr>\n",
       "      <th>2023-12-28 00:00:00-05:00</th>\n",
       "      <td>4786.439941</td>\n",
       "      <td>4793.299805</td>\n",
       "      <td>4780.979980</td>\n",
       "      <td>4783.350098</td>\n",
       "      <td>2698860000</td>\n",
       "      <td>4769.830078</td>\n",
       "      <td>0</td>\n",
       "    </tr>\n",
       "    <tr>\n",
       "      <th>2023-12-29 00:00:00-05:00</th>\n",
       "      <td>4782.879883</td>\n",
       "      <td>4788.430176</td>\n",
       "      <td>4751.990234</td>\n",
       "      <td>4769.830078</td>\n",
       "      <td>3126060000</td>\n",
       "      <td>NaN</td>\n",
       "      <td>0</td>\n",
       "    </tr>\n",
       "  </tbody>\n",
       "</table>\n",
       "<p>24115 rows × 7 columns</p>\n",
       "</div>"
      ],
      "text/plain": [
       "                                  Open         High          Low        Close  \\\n",
       "Date                                                                            \n",
       "1927-12-30 00:00:00-05:00    17.660000    17.660000    17.660000    17.660000   \n",
       "1928-01-03 00:00:00-05:00    17.760000    17.760000    17.760000    17.760000   \n",
       "1928-01-04 00:00:00-05:00    17.719999    17.719999    17.719999    17.719999   \n",
       "1928-01-05 00:00:00-05:00    17.549999    17.549999    17.549999    17.549999   \n",
       "1928-01-06 00:00:00-05:00    17.660000    17.660000    17.660000    17.660000   \n",
       "...                                ...          ...          ...          ...   \n",
       "2023-12-22 00:00:00-05:00  4753.919922  4772.939941  4736.770020  4754.629883   \n",
       "2023-12-26 00:00:00-05:00  4758.859863  4784.720215  4758.450195  4774.750000   \n",
       "2023-12-27 00:00:00-05:00  4773.450195  4785.390137  4768.899902  4781.580078   \n",
       "2023-12-28 00:00:00-05:00  4786.439941  4793.299805  4780.979980  4783.350098   \n",
       "2023-12-29 00:00:00-05:00  4782.879883  4788.430176  4751.990234  4769.830078   \n",
       "\n",
       "                               Volume     Tomorrow  Target  \n",
       "Date                                                        \n",
       "1927-12-30 00:00:00-05:00           0    17.760000       1  \n",
       "1928-01-03 00:00:00-05:00           0    17.719999       0  \n",
       "1928-01-04 00:00:00-05:00           0    17.549999       0  \n",
       "1928-01-05 00:00:00-05:00           0    17.660000       1  \n",
       "1928-01-06 00:00:00-05:00           0    17.500000       0  \n",
       "...                               ...          ...     ...  \n",
       "2023-12-22 00:00:00-05:00  3046770000  4774.750000       1  \n",
       "2023-12-26 00:00:00-05:00  2513910000  4781.580078       1  \n",
       "2023-12-27 00:00:00-05:00  2748450000  4783.350098       1  \n",
       "2023-12-28 00:00:00-05:00  2698860000  4769.830078       0  \n",
       "2023-12-29 00:00:00-05:00  3126060000          NaN       0  \n",
       "\n",
       "[24115 rows x 7 columns]"
      ]
     },
     "execution_count": 13,
     "metadata": {},
     "output_type": "execute_result"
    }
   ],
   "source": [
    "sp500"
   ]
  },
  {
   "cell_type": "code",
   "execution_count": 14,
   "id": "190cfcc5",
   "metadata": {},
   "outputs": [],
   "source": [
    "#having a lot of historical data is very good, however, in stock prediction having very old one may influence badly the model, because og the darasticall shifts\n",
    "sp500 = sp500.loc[\"1990-01-01\":].copy()"
   ]
  },
  {
   "cell_type": "code",
   "execution_count": 15,
   "id": "a18b86ae",
   "metadata": {},
   "outputs": [
    {
     "data": {
      "text/html": [
       "<div>\n",
       "<style scoped>\n",
       "    .dataframe tbody tr th:only-of-type {\n",
       "        vertical-align: middle;\n",
       "    }\n",
       "\n",
       "    .dataframe tbody tr th {\n",
       "        vertical-align: top;\n",
       "    }\n",
       "\n",
       "    .dataframe thead th {\n",
       "        text-align: right;\n",
       "    }\n",
       "</style>\n",
       "<table border=\"1\" class=\"dataframe\">\n",
       "  <thead>\n",
       "    <tr style=\"text-align: right;\">\n",
       "      <th></th>\n",
       "      <th>Open</th>\n",
       "      <th>High</th>\n",
       "      <th>Low</th>\n",
       "      <th>Close</th>\n",
       "      <th>Volume</th>\n",
       "      <th>Tomorrow</th>\n",
       "      <th>Target</th>\n",
       "    </tr>\n",
       "    <tr>\n",
       "      <th>Date</th>\n",
       "      <th></th>\n",
       "      <th></th>\n",
       "      <th></th>\n",
       "      <th></th>\n",
       "      <th></th>\n",
       "      <th></th>\n",
       "      <th></th>\n",
       "    </tr>\n",
       "  </thead>\n",
       "  <tbody>\n",
       "    <tr>\n",
       "      <th>1990-01-02 00:00:00-05:00</th>\n",
       "      <td>353.399994</td>\n",
       "      <td>359.690002</td>\n",
       "      <td>351.980011</td>\n",
       "      <td>359.690002</td>\n",
       "      <td>162070000</td>\n",
       "      <td>358.760010</td>\n",
       "      <td>0</td>\n",
       "    </tr>\n",
       "    <tr>\n",
       "      <th>1990-01-03 00:00:00-05:00</th>\n",
       "      <td>359.690002</td>\n",
       "      <td>360.589996</td>\n",
       "      <td>357.890015</td>\n",
       "      <td>358.760010</td>\n",
       "      <td>192330000</td>\n",
       "      <td>355.670013</td>\n",
       "      <td>0</td>\n",
       "    </tr>\n",
       "    <tr>\n",
       "      <th>1990-01-04 00:00:00-05:00</th>\n",
       "      <td>358.760010</td>\n",
       "      <td>358.760010</td>\n",
       "      <td>352.890015</td>\n",
       "      <td>355.670013</td>\n",
       "      <td>177000000</td>\n",
       "      <td>352.200012</td>\n",
       "      <td>0</td>\n",
       "    </tr>\n",
       "    <tr>\n",
       "      <th>1990-01-05 00:00:00-05:00</th>\n",
       "      <td>355.670013</td>\n",
       "      <td>355.670013</td>\n",
       "      <td>351.350006</td>\n",
       "      <td>352.200012</td>\n",
       "      <td>158530000</td>\n",
       "      <td>353.790009</td>\n",
       "      <td>1</td>\n",
       "    </tr>\n",
       "    <tr>\n",
       "      <th>1990-01-08 00:00:00-05:00</th>\n",
       "      <td>352.200012</td>\n",
       "      <td>354.239990</td>\n",
       "      <td>350.540009</td>\n",
       "      <td>353.790009</td>\n",
       "      <td>140110000</td>\n",
       "      <td>349.619995</td>\n",
       "      <td>0</td>\n",
       "    </tr>\n",
       "    <tr>\n",
       "      <th>...</th>\n",
       "      <td>...</td>\n",
       "      <td>...</td>\n",
       "      <td>...</td>\n",
       "      <td>...</td>\n",
       "      <td>...</td>\n",
       "      <td>...</td>\n",
       "      <td>...</td>\n",
       "    </tr>\n",
       "    <tr>\n",
       "      <th>2023-12-22 00:00:00-05:00</th>\n",
       "      <td>4753.919922</td>\n",
       "      <td>4772.939941</td>\n",
       "      <td>4736.770020</td>\n",
       "      <td>4754.629883</td>\n",
       "      <td>3046770000</td>\n",
       "      <td>4774.750000</td>\n",
       "      <td>1</td>\n",
       "    </tr>\n",
       "    <tr>\n",
       "      <th>2023-12-26 00:00:00-05:00</th>\n",
       "      <td>4758.859863</td>\n",
       "      <td>4784.720215</td>\n",
       "      <td>4758.450195</td>\n",
       "      <td>4774.750000</td>\n",
       "      <td>2513910000</td>\n",
       "      <td>4781.580078</td>\n",
       "      <td>1</td>\n",
       "    </tr>\n",
       "    <tr>\n",
       "      <th>2023-12-27 00:00:00-05:00</th>\n",
       "      <td>4773.450195</td>\n",
       "      <td>4785.390137</td>\n",
       "      <td>4768.899902</td>\n",
       "      <td>4781.580078</td>\n",
       "      <td>2748450000</td>\n",
       "      <td>4783.350098</td>\n",
       "      <td>1</td>\n",
       "    </tr>\n",
       "    <tr>\n",
       "      <th>2023-12-28 00:00:00-05:00</th>\n",
       "      <td>4786.439941</td>\n",
       "      <td>4793.299805</td>\n",
       "      <td>4780.979980</td>\n",
       "      <td>4783.350098</td>\n",
       "      <td>2698860000</td>\n",
       "      <td>4769.830078</td>\n",
       "      <td>0</td>\n",
       "    </tr>\n",
       "    <tr>\n",
       "      <th>2023-12-29 00:00:00-05:00</th>\n",
       "      <td>4782.879883</td>\n",
       "      <td>4788.430176</td>\n",
       "      <td>4751.990234</td>\n",
       "      <td>4769.830078</td>\n",
       "      <td>3126060000</td>\n",
       "      <td>NaN</td>\n",
       "      <td>0</td>\n",
       "    </tr>\n",
       "  </tbody>\n",
       "</table>\n",
       "<p>8565 rows × 7 columns</p>\n",
       "</div>"
      ],
      "text/plain": [
       "                                  Open         High          Low        Close  \\\n",
       "Date                                                                            \n",
       "1990-01-02 00:00:00-05:00   353.399994   359.690002   351.980011   359.690002   \n",
       "1990-01-03 00:00:00-05:00   359.690002   360.589996   357.890015   358.760010   \n",
       "1990-01-04 00:00:00-05:00   358.760010   358.760010   352.890015   355.670013   \n",
       "1990-01-05 00:00:00-05:00   355.670013   355.670013   351.350006   352.200012   \n",
       "1990-01-08 00:00:00-05:00   352.200012   354.239990   350.540009   353.790009   \n",
       "...                                ...          ...          ...          ...   \n",
       "2023-12-22 00:00:00-05:00  4753.919922  4772.939941  4736.770020  4754.629883   \n",
       "2023-12-26 00:00:00-05:00  4758.859863  4784.720215  4758.450195  4774.750000   \n",
       "2023-12-27 00:00:00-05:00  4773.450195  4785.390137  4768.899902  4781.580078   \n",
       "2023-12-28 00:00:00-05:00  4786.439941  4793.299805  4780.979980  4783.350098   \n",
       "2023-12-29 00:00:00-05:00  4782.879883  4788.430176  4751.990234  4769.830078   \n",
       "\n",
       "                               Volume     Tomorrow  Target  \n",
       "Date                                                        \n",
       "1990-01-02 00:00:00-05:00   162070000   358.760010       0  \n",
       "1990-01-03 00:00:00-05:00   192330000   355.670013       0  \n",
       "1990-01-04 00:00:00-05:00   177000000   352.200012       0  \n",
       "1990-01-05 00:00:00-05:00   158530000   353.790009       1  \n",
       "1990-01-08 00:00:00-05:00   140110000   349.619995       0  \n",
       "...                               ...          ...     ...  \n",
       "2023-12-22 00:00:00-05:00  3046770000  4774.750000       1  \n",
       "2023-12-26 00:00:00-05:00  2513910000  4781.580078       1  \n",
       "2023-12-27 00:00:00-05:00  2748450000  4783.350098       1  \n",
       "2023-12-28 00:00:00-05:00  2698860000  4769.830078       0  \n",
       "2023-12-29 00:00:00-05:00  3126060000          NaN       0  \n",
       "\n",
       "[8565 rows x 7 columns]"
      ]
     },
     "execution_count": 15,
     "metadata": {},
     "output_type": "execute_result"
    }
   ],
   "source": [
    "sp500\n"
   ]
  },
  {
   "cell_type": "markdown",
   "id": "3f58eda5",
   "metadata": {},
   "source": [
    "## Training the model.\n",
    "#### I will do both random forest and LSTM\n"
   ]
  },
  {
   "cell_type": "markdown",
   "id": "9f7feb29",
   "metadata": {},
   "source": [
    "### Random Forest"
   ]
  },
  {
   "cell_type": "code",
   "execution_count": 16,
   "id": "a62cebb9",
   "metadata": {},
   "outputs": [],
   "source": [
    "from sklearn.ensemble import RandomForestClassifier\n",
    "from sklearn.metrics import precision_score"
   ]
  },
  {
   "cell_type": "code",
   "execution_count": 17,
   "id": "9da2aa87",
   "metadata": {},
   "outputs": [],
   "source": [
    "#n_estimator = num of individuel trees we wanna train, the higher the better.\n",
    "#min_sample_split = gelps us protect against overfitting.\n",
    "model = RandomForestClassifier(n_estimators = 100, min_samples_split =100, random_state= 1)"
   ]
  },
  {
   "cell_type": "code",
   "execution_count": 18,
   "id": "af5f4006",
   "metadata": {},
   "outputs": [],
   "source": [
    "#if we use crossvalidation to split our train and test, we will be using futur data to predict the past\n",
    "train = sp500.iloc[:-100]\n",
    "test = sp500.iloc[-100:]"
   ]
  },
  {
   "cell_type": "code",
   "execution_count": 19,
   "id": "f73dcd15",
   "metadata": {},
   "outputs": [],
   "source": [
    "predictors= [\"Close\", \"Volume\", \"Open\", \"High\", \"Low\"]\n",
    "\n"
   ]
  },
  {
   "cell_type": "code",
   "execution_count": 20,
   "id": "2d9a2764",
   "metadata": {},
   "outputs": [
    {
     "data": {
      "text/html": [
       "<style>#sk-container-id-1 {color: black;}#sk-container-id-1 pre{padding: 0;}#sk-container-id-1 div.sk-toggleable {background-color: white;}#sk-container-id-1 label.sk-toggleable__label {cursor: pointer;display: block;width: 100%;margin-bottom: 0;padding: 0.3em;box-sizing: border-box;text-align: center;}#sk-container-id-1 label.sk-toggleable__label-arrow:before {content: \"▸\";float: left;margin-right: 0.25em;color: #696969;}#sk-container-id-1 label.sk-toggleable__label-arrow:hover:before {color: black;}#sk-container-id-1 div.sk-estimator:hover label.sk-toggleable__label-arrow:before {color: black;}#sk-container-id-1 div.sk-toggleable__content {max-height: 0;max-width: 0;overflow: hidden;text-align: left;background-color: #f0f8ff;}#sk-container-id-1 div.sk-toggleable__content pre {margin: 0.2em;color: black;border-radius: 0.25em;background-color: #f0f8ff;}#sk-container-id-1 input.sk-toggleable__control:checked~div.sk-toggleable__content {max-height: 200px;max-width: 100%;overflow: auto;}#sk-container-id-1 input.sk-toggleable__control:checked~label.sk-toggleable__label-arrow:before {content: \"▾\";}#sk-container-id-1 div.sk-estimator input.sk-toggleable__control:checked~label.sk-toggleable__label {background-color: #d4ebff;}#sk-container-id-1 div.sk-label input.sk-toggleable__control:checked~label.sk-toggleable__label {background-color: #d4ebff;}#sk-container-id-1 input.sk-hidden--visually {border: 0;clip: rect(1px 1px 1px 1px);clip: rect(1px, 1px, 1px, 1px);height: 1px;margin: -1px;overflow: hidden;padding: 0;position: absolute;width: 1px;}#sk-container-id-1 div.sk-estimator {font-family: monospace;background-color: #f0f8ff;border: 1px dotted black;border-radius: 0.25em;box-sizing: border-box;margin-bottom: 0.5em;}#sk-container-id-1 div.sk-estimator:hover {background-color: #d4ebff;}#sk-container-id-1 div.sk-parallel-item::after {content: \"\";width: 100%;border-bottom: 1px solid gray;flex-grow: 1;}#sk-container-id-1 div.sk-label:hover label.sk-toggleable__label {background-color: #d4ebff;}#sk-container-id-1 div.sk-serial::before {content: \"\";position: absolute;border-left: 1px solid gray;box-sizing: border-box;top: 0;bottom: 0;left: 50%;z-index: 0;}#sk-container-id-1 div.sk-serial {display: flex;flex-direction: column;align-items: center;background-color: white;padding-right: 0.2em;padding-left: 0.2em;position: relative;}#sk-container-id-1 div.sk-item {position: relative;z-index: 1;}#sk-container-id-1 div.sk-parallel {display: flex;align-items: stretch;justify-content: center;background-color: white;position: relative;}#sk-container-id-1 div.sk-item::before, #sk-container-id-1 div.sk-parallel-item::before {content: \"\";position: absolute;border-left: 1px solid gray;box-sizing: border-box;top: 0;bottom: 0;left: 50%;z-index: -1;}#sk-container-id-1 div.sk-parallel-item {display: flex;flex-direction: column;z-index: 1;position: relative;background-color: white;}#sk-container-id-1 div.sk-parallel-item:first-child::after {align-self: flex-end;width: 50%;}#sk-container-id-1 div.sk-parallel-item:last-child::after {align-self: flex-start;width: 50%;}#sk-container-id-1 div.sk-parallel-item:only-child::after {width: 0;}#sk-container-id-1 div.sk-dashed-wrapped {border: 1px dashed gray;margin: 0 0.4em 0.5em 0.4em;box-sizing: border-box;padding-bottom: 0.4em;background-color: white;}#sk-container-id-1 div.sk-label label {font-family: monospace;font-weight: bold;display: inline-block;line-height: 1.2em;}#sk-container-id-1 div.sk-label-container {text-align: center;}#sk-container-id-1 div.sk-container {/* jupyter's `normalize.less` sets `[hidden] { display: none; }` but bootstrap.min.css set `[hidden] { display: none !important; }` so we also need the `!important` here to be able to override the default hidden behavior on the sphinx rendered scikit-learn.org. See: https://github.com/scikit-learn/scikit-learn/issues/21755 */display: inline-block !important;position: relative;}#sk-container-id-1 div.sk-text-repr-fallback {display: none;}</style><div id=\"sk-container-id-1\" class=\"sk-top-container\"><div class=\"sk-text-repr-fallback\"><pre>RandomForestClassifier(min_samples_split=100, random_state=1)</pre><b>In a Jupyter environment, please rerun this cell to show the HTML representation or trust the notebook. <br />On GitHub, the HTML representation is unable to render, please try loading this page with nbviewer.org.</b></div><div class=\"sk-container\" hidden><div class=\"sk-item\"><div class=\"sk-estimator sk-toggleable\"><input class=\"sk-toggleable__control sk-hidden--visually\" id=\"sk-estimator-id-1\" type=\"checkbox\" checked><label for=\"sk-estimator-id-1\" class=\"sk-toggleable__label sk-toggleable__label-arrow\">RandomForestClassifier</label><div class=\"sk-toggleable__content\"><pre>RandomForestClassifier(min_samples_split=100, random_state=1)</pre></div></div></div></div></div>"
      ],
      "text/plain": [
       "RandomForestClassifier(min_samples_split=100, random_state=1)"
      ]
     },
     "execution_count": 20,
     "metadata": {},
     "output_type": "execute_result"
    }
   ],
   "source": [
    "model.fit(train[predictors], train['Target'])"
   ]
  },
  {
   "cell_type": "code",
   "execution_count": 21,
   "id": "4b4cfb4f",
   "metadata": {},
   "outputs": [],
   "source": [
    "#How accuarte our model is\n",
    "#precision score says what % when we said the market will go up did it actually go up\n",
    "from sklearn.metrics import precision_score\n"
   ]
  },
  {
   "cell_type": "code",
   "execution_count": 22,
   "id": "5700a67f",
   "metadata": {},
   "outputs": [],
   "source": [
    "preds = model.predict(test[predictors])"
   ]
  },
  {
   "cell_type": "code",
   "execution_count": 23,
   "id": "4b7c0a0c",
   "metadata": {},
   "outputs": [],
   "source": [
    "#turn the result into a pandas series\n",
    "preds = pd.Series(preds, index=test.index)"
   ]
  },
  {
   "cell_type": "code",
   "execution_count": 24,
   "id": "bc4d28e0",
   "metadata": {},
   "outputs": [
    {
     "data": {
      "text/plain": [
       "0.5573770491803278"
      ]
     },
     "execution_count": 24,
     "metadata": {},
     "output_type": "execute_result"
    }
   ],
   "source": [
    "precision_score(test[\"Target\"], preds)"
   ]
  },
  {
   "cell_type": "markdown",
   "id": "56afa9f0",
   "metadata": {},
   "source": [
    "That not a very good prediction score."
   ]
  },
  {
   "cell_type": "code",
   "execution_count": 25,
   "id": "acfce756",
   "metadata": {},
   "outputs": [],
   "source": [
    "#let improve it \n",
    "combined = pd.concat([test['Target'], preds], axis=1)"
   ]
  },
  {
   "cell_type": "code",
   "execution_count": 26,
   "id": "91da2de4",
   "metadata": {},
   "outputs": [
    {
     "data": {
      "text/plain": [
       "<Axes: xlabel='Date'>"
      ]
     },
     "execution_count": 26,
     "metadata": {},
     "output_type": "execute_result"
    },
    {
     "data": {
      "image/png": "[encoded data removed]",
      "text/plain": [
       "<Figure size 640x480 with 1 Axes>"
      ]
     },
     "metadata": {},
     "output_type": "display_data"
    }
   ],
   "source": [
    "combined.plot()"
   ]
  },
  {
   "cell_type": "markdown",
   "id": "d0ed25c5",
   "metadata": {},
   "source": [
    "## Bcktesting "
   ]
  },
  {
   "cell_type": "code",
   "execution_count": 27,
   "id": "cc5f3c98",
   "metadata": {},
   "outputs": [],
   "source": [
    "def predict(train, test, predictors, model):\n",
    "    model.fit(train[predictors], train[\"Target\"])\n",
    "    preds = model.predict(test[predictors])\n",
    "    preds = pd.Series(preds, index = test.index, name=\"Predictions\")\n",
    "    combined = pd.concat([test['Target'], preds], axis=1)\n",
    "    return combined"
   ]
  },
  {
   "cell_type": "code",
   "execution_count": 28,
   "id": "e52b367b",
   "metadata": {},
   "outputs": [],
   "source": [
    "#start = take ten years of data and then trai nur first modeland then go to thenext year\n",
    "def backtest(data, model, predictors, start=2500, step=250):\n",
    "    all_predictions = []\n",
    "    \n",
    "    for i in range(start, data.shape[0], step):\n",
    "        train = data.iloc[0:i].copy()\n",
    "        test = data.iloc[i:(i+step)].copy()\n",
    "        predictions = predict(train, test, predictors, model)\n",
    "        all_predictions.append(predictions)\n",
    "    return pd.concat(all_predictions)\n",
    "     "
   ]
  },
  {
   "cell_type": "code",
   "execution_count": 29,
   "id": "7601f114",
   "metadata": {},
   "outputs": [],
   "source": [
    "predictions = backtest(sp500, model, predictors)"
   ]
  },
  {
   "cell_type": "code",
   "execution_count": 30,
   "id": "5a79a053",
   "metadata": {},
   "outputs": [
    {
     "data": {
      "text/plain": [
       "Predictions\n",
       "0    3469\n",
       "1    2596\n",
       "Name: count, dtype: int64"
      ]
     },
     "execution_count": 30,
     "metadata": {},
     "output_type": "execute_result"
    }
   ],
   "source": [
    "predictions[\"Predictions\"].value_counts()"
   ]
  },
  {
   "cell_type": "code",
   "execution_count": 31,
   "id": "e0876ead",
   "metadata": {},
   "outputs": [
    {
     "data": {
      "text/plain": [
       "0.5288906009244992"
      ]
     },
     "execution_count": 31,
     "metadata": {},
     "output_type": "execute_result"
    }
   ],
   "source": [
    "precision_score(predictions[\"Target\"], predictions[\"Predictions\"])"
   ]
  },
  {
   "cell_type": "code",
   "execution_count": 32,
   "id": "c765f413",
   "metadata": {},
   "outputs": [
    {
     "data": {
      "text/plain": [
       "Target\n",
       "1    0.534542\n",
       "0    0.465458\n",
       "Name: count, dtype: float64"
      ]
     },
     "execution_count": 32,
     "metadata": {},
     "output_type": "execute_result"
    }
   ],
   "source": [
    "predictions[\"Target\"].value_counts() / predictions.shape[0]"
   ]
  },
  {
   "cell_type": "code",
   "execution_count": 33,
   "id": "ac002535",
   "metadata": {},
   "outputs": [],
   "source": [
    "horizons = [2,5,60,250,1000]\n",
    "\n",
    "new_predictors = []\n",
    "\n",
    "for horizon in horizons:\n",
    "    rolling_averages = sp500.rolling(horizon).mean()\n",
    "    \n",
    "    ratio_column = f\"Close_Ratio_{horizon}\"\n",
    "    sp500[ratio_column] = sp500[\"Close\"] / rolling_averages[\"Close\"]\n",
    "    \n",
    "    trend_column = f\"Trend_{horizon}\"\n",
    "    sp500[trend_column] = sp500.shift(1).rolling(horizon).sum()[\"Target\"]\n",
    "    \n",
    "    \n",
    "    new_predictors += [ratio_column, trend_column]"
   ]
  },
  {
   "cell_type": "code",
   "execution_count": 34,
   "id": "60d0df78",
   "metadata": {},
   "outputs": [],
   "source": [
    "sp500= sp500.dropna()"
   ]
  },
  {
   "cell_type": "code",
   "execution_count": 35,
   "id": "439baff4",
   "metadata": {},
   "outputs": [],
   "source": [
    "model = RandomForestClassifier(n_estimators=200, min_samples_split=50, random_state = 1)"
   ]
  },
  {
   "cell_type": "code",
   "execution_count": 36,
   "id": "a0d283b4",
   "metadata": {},
   "outputs": [],
   "source": [
    "#we will use predict_proba instead\n",
    "def predict(train, test, predictors, model):\n",
    "    model.fit(train[predictors], train[\"Target\"])\n",
    "    preds = model.predict_proba(test[predictors])[:,1]\n",
    "    preds[preds >= .6] = 1\n",
    "    preds[preds < .6] = 0\n",
    "    preds = pd.Series(preds, index = test.index, name=\"Predictions\")\n",
    "    combined = pd.concat([test['Target'], preds], axis=1)\n",
    "    return combined"
   ]
  },
  {
   "cell_type": "code",
   "execution_count": 37,
   "id": "68336585",
   "metadata": {},
   "outputs": [],
   "source": [
    "predictions = backtest(sp500, model, new_predictors)"
   ]
  },
  {
   "cell_type": "code",
   "execution_count": 38,
   "id": "f1b0d96b",
   "metadata": {},
   "outputs": [
    {
     "data": {
      "text/plain": [
       "Predictions\n",
       "0.0    4234\n",
       "1.0     830\n",
       "Name: count, dtype: int64"
      ]
     },
     "execution_count": 38,
     "metadata": {},
     "output_type": "execute_result"
    }
   ],
   "source": [
    "predictions[\"Predictions\"].value_counts()"
   ]
  },
  {
   "cell_type": "code",
   "execution_count": 39,
   "id": "90cb2c67",
   "metadata": {},
   "outputs": [
    {
     "data": {
      "text/plain": [
       "0.572289156626506"
      ]
     },
     "execution_count": 39,
     "metadata": {},
     "output_type": "execute_result"
    }
   ],
   "source": [
    "precision_score(predictions[\"Target\"], predictions[\"Predictions\"])"
   ]
  },
  {
   "cell_type": "markdown",
   "id": "d595bb2b",
   "metadata": {},
   "source": [
    "## LSTM"
   ]
  },
  {
   "cell_type": "code",
   "execution_count": 40,
   "id": "3746d12a",
   "metadata": {},
   "outputs": [],
   "source": [
    "#let choose google stock \n",
    "sp500_data = yf.Ticker(\"^GSPC\")\n"
   ]
  },
  {
   "cell_type": "code",
   "execution_count": 41,
   "id": "db0f329f",
   "metadata": {},
   "outputs": [],
   "source": [
    "sp500_data = sp500_data.history(period=\"max\")"
   ]
  },
  {
   "cell_type": "code",
   "execution_count": 42,
   "id": "bbba4068",
   "metadata": {},
   "outputs": [],
   "source": [
    "sp500_data.reset_index(inplace=True)"
   ]
  },
  {
   "cell_type": "code",
   "execution_count": 43,
   "id": "1dd9bbfe",
   "metadata": {},
   "outputs": [
    {
     "data": {
      "text/html": [
       "<div>\n",
       "<style scoped>\n",
       "    .dataframe tbody tr th:only-of-type {\n",
       "        vertical-align: middle;\n",
       "    }\n",
       "\n",
       "    .dataframe tbody tr th {\n",
       "        vertical-align: top;\n",
       "    }\n",
       "\n",
       "    .dataframe thead th {\n",
       "        text-align: right;\n",
       "    }\n",
       "</style>\n",
       "<table border=\"1\" class=\"dataframe\">\n",
       "  <thead>\n",
       "    <tr style=\"text-align: right;\">\n",
       "      <th></th>\n",
       "      <th>Date</th>\n",
       "      <th>Open</th>\n",
       "      <th>High</th>\n",
       "      <th>Low</th>\n",
       "      <th>Close</th>\n",
       "      <th>Volume</th>\n",
       "      <th>Dividends</th>\n",
       "      <th>Stock Splits</th>\n",
       "    </tr>\n",
       "  </thead>\n",
       "  <tbody>\n",
       "    <tr>\n",
       "      <th>0</th>\n",
       "      <td>1927-12-30 00:00:00-05:00</td>\n",
       "      <td>17.660000</td>\n",
       "      <td>17.660000</td>\n",
       "      <td>17.660000</td>\n",
       "      <td>17.660000</td>\n",
       "      <td>0</td>\n",
       "      <td>0.0</td>\n",
       "      <td>0.0</td>\n",
       "    </tr>\n",
       "    <tr>\n",
       "      <th>1</th>\n",
       "      <td>1928-01-03 00:00:00-05:00</td>\n",
       "      <td>17.760000</td>\n",
       "      <td>17.760000</td>\n",
       "      <td>17.760000</td>\n",
       "      <td>17.760000</td>\n",
       "      <td>0</td>\n",
       "      <td>0.0</td>\n",
       "      <td>0.0</td>\n",
       "    </tr>\n",
       "    <tr>\n",
       "      <th>2</th>\n",
       "      <td>1928-01-04 00:00:00-05:00</td>\n",
       "      <td>17.719999</td>\n",
       "      <td>17.719999</td>\n",
       "      <td>17.719999</td>\n",
       "      <td>17.719999</td>\n",
       "      <td>0</td>\n",
       "      <td>0.0</td>\n",
       "      <td>0.0</td>\n",
       "    </tr>\n",
       "    <tr>\n",
       "      <th>3</th>\n",
       "      <td>1928-01-05 00:00:00-05:00</td>\n",
       "      <td>17.549999</td>\n",
       "      <td>17.549999</td>\n",
       "      <td>17.549999</td>\n",
       "      <td>17.549999</td>\n",
       "      <td>0</td>\n",
       "      <td>0.0</td>\n",
       "      <td>0.0</td>\n",
       "    </tr>\n",
       "    <tr>\n",
       "      <th>4</th>\n",
       "      <td>1928-01-06 00:00:00-05:00</td>\n",
       "      <td>17.660000</td>\n",
       "      <td>17.660000</td>\n",
       "      <td>17.660000</td>\n",
       "      <td>17.660000</td>\n",
       "      <td>0</td>\n",
       "      <td>0.0</td>\n",
       "      <td>0.0</td>\n",
       "    </tr>\n",
       "    <tr>\n",
       "      <th>...</th>\n",
       "      <td>...</td>\n",
       "      <td>...</td>\n",
       "      <td>...</td>\n",
       "      <td>...</td>\n",
       "      <td>...</td>\n",
       "      <td>...</td>\n",
       "      <td>...</td>\n",
       "      <td>...</td>\n",
       "    </tr>\n",
       "    <tr>\n",
       "      <th>24110</th>\n",
       "      <td>2023-12-22 00:00:00-05:00</td>\n",
       "      <td>4753.919922</td>\n",
       "      <td>4772.939941</td>\n",
       "      <td>4736.770020</td>\n",
       "      <td>4754.629883</td>\n",
       "      <td>3046770000</td>\n",
       "      <td>0.0</td>\n",
       "      <td>0.0</td>\n",
       "    </tr>\n",
       "    <tr>\n",
       "      <th>24111</th>\n",
       "      <td>2023-12-26 00:00:00-05:00</td>\n",
       "      <td>4758.859863</td>\n",
       "      <td>4784.720215</td>\n",
       "      <td>4758.450195</td>\n",
       "      <td>4774.750000</td>\n",
       "      <td>2513910000</td>\n",
       "      <td>0.0</td>\n",
       "      <td>0.0</td>\n",
       "    </tr>\n",
       "    <tr>\n",
       "      <th>24112</th>\n",
       "      <td>2023-12-27 00:00:00-05:00</td>\n",
       "      <td>4773.450195</td>\n",
       "      <td>4785.390137</td>\n",
       "      <td>4768.899902</td>\n",
       "      <td>4781.580078</td>\n",
       "      <td>2748450000</td>\n",
       "      <td>0.0</td>\n",
       "      <td>0.0</td>\n",
       "    </tr>\n",
       "    <tr>\n",
       "      <th>24113</th>\n",
       "      <td>2023-12-28 00:00:00-05:00</td>\n",
       "      <td>4786.439941</td>\n",
       "      <td>4793.299805</td>\n",
       "      <td>4780.979980</td>\n",
       "      <td>4783.350098</td>\n",
       "      <td>2698860000</td>\n",
       "      <td>0.0</td>\n",
       "      <td>0.0</td>\n",
       "    </tr>\n",
       "    <tr>\n",
       "      <th>24114</th>\n",
       "      <td>2023-12-29 00:00:00-05:00</td>\n",
       "      <td>4782.879883</td>\n",
       "      <td>4788.430176</td>\n",
       "      <td>4751.990234</td>\n",
       "      <td>4769.830078</td>\n",
       "      <td>3126060000</td>\n",
       "      <td>0.0</td>\n",
       "      <td>0.0</td>\n",
       "    </tr>\n",
       "  </tbody>\n",
       "</table>\n",
       "<p>24115 rows × 8 columns</p>\n",
       "</div>"
      ],
      "text/plain": [
       "                           Date         Open         High          Low  \\\n",
       "0     1927-12-30 00:00:00-05:00    17.660000    17.660000    17.660000   \n",
       "1     1928-01-03 00:00:00-05:00    17.760000    17.760000    17.760000   \n",
       "2     1928-01-04 00:00:00-05:00    17.719999    17.719999    17.719999   \n",
       "3     1928-01-05 00:00:00-05:00    17.549999    17.549999    17.549999   \n",
       "4     1928-01-06 00:00:00-05:00    17.660000    17.660000    17.660000   \n",
       "...                         ...          ...          ...          ...   \n",
       "24110 2023-12-22 00:00:00-05:00  4753.919922  4772.939941  4736.770020   \n",
       "24111 2023-12-26 00:00:00-05:00  4758.859863  4784.720215  4758.450195   \n",
       "24112 2023-12-27 00:00:00-05:00  4773.450195  4785.390137  4768.899902   \n",
       "24113 2023-12-28 00:00:00-05:00  4786.439941  4793.299805  4780.979980   \n",
       "24114 2023-12-29 00:00:00-05:00  4782.879883  4788.430176  4751.990234   \n",
       "\n",
       "             Close      Volume  Dividends  Stock Splits  \n",
       "0        17.660000           0        0.0           0.0  \n",
       "1        17.760000           0        0.0           0.0  \n",
       "2        17.719999           0        0.0           0.0  \n",
       "3        17.549999           0        0.0           0.0  \n",
       "4        17.660000           0        0.0           0.0  \n",
       "...            ...         ...        ...           ...  \n",
       "24110  4754.629883  3046770000        0.0           0.0  \n",
       "24111  4774.750000  2513910000        0.0           0.0  \n",
       "24112  4781.580078  2748450000        0.0           0.0  \n",
       "24113  4783.350098  2698860000        0.0           0.0  \n",
       "24114  4769.830078  3126060000        0.0           0.0  \n",
       "\n",
       "[24115 rows x 8 columns]"
      ]
     },
     "execution_count": 43,
     "metadata": {},
     "output_type": "execute_result"
    }
   ],
   "source": [
    "sp500_data"
   ]
  },
  {
   "cell_type": "code",
   "execution_count": 44,
   "id": "d35b322a",
   "metadata": {},
   "outputs": [],
   "source": [
    "ma_100_days = sp500_data.Close.rolling(100).mean()"
   ]
  },
  {
   "cell_type": "code",
   "execution_count": 46,
   "id": "59b7407f",
   "metadata": {},
   "outputs": [
    {
     "data": {
      "image/png": "[encoded data removed]",
      "text/plain": [
       "<Figure size 800x600 with 1 Axes>"
      ]
     },
     "metadata": {},
     "output_type": "display_data"
    }
   ],
   "source": [
    "import matplotlib.pyplot as plt\n",
    "\n",
    "plt.figure(figsize=(8,6))\n",
    "plt.plot(ma_100_days, 'r')\n",
    "plt.plot(sp500_data.Close, 'g')\n",
    "plt.show()"
   ]
  },
  {
   "cell_type": "code",
   "execution_count": 47,
   "id": "a553efa8",
   "metadata": {},
   "outputs": [],
   "source": [
    "ma_200_days = sp500_data.Close.rolling(200).mean()"
   ]
  },
  {
   "cell_type": "code",
   "execution_count": 48,
   "id": "6328c66a",
   "metadata": {},
   "outputs": [
    {
     "data": {
      "image/png": "[encoded data removed]",
      "text/plain": [
       "<Figure size 800x600 with 1 Axes>"
      ]
     },
     "metadata": {},
     "output_type": "display_data"
    }
   ],
   "source": [
    "plt.figure(figsize=(8,6))\n",
    "plt.plot(ma_100_days, 'r')\n",
    "plt.plot(ma_200_days,'b')\n",
    "plt.plot(sp500_data.Close,'g')\n",
    "plt.show()"
   ]
  },
  {
   "cell_type": "code",
   "execution_count": 49,
   "id": "d4819e96",
   "metadata": {},
   "outputs": [],
   "source": [
    "sp500_data.dropna(inplace=True)"
   ]
  },
  {
   "cell_type": "code",
   "execution_count": 50,
   "id": "ba670b49",
   "metadata": {},
   "outputs": [],
   "source": [
    "data_train = pd.DataFrame(sp500_data.Close[0: int(len(sp500_data)*0.80)])\n",
    "data_test = pd.DataFrame(sp500_data.Close[int(len(sp500_data)*0.80): len(sp500_data)])"
   ]
  },
  {
   "cell_type": "code",
   "execution_count": 51,
   "id": "87cde8db",
   "metadata": {},
   "outputs": [
    {
     "data": {
      "text/plain": [
       "19292"
      ]
     },
     "execution_count": 51,
     "metadata": {},
     "output_type": "execute_result"
    }
   ],
   "source": [
    "data_train.shape[0]"
   ]
  },
  {
   "cell_type": "code",
   "execution_count": 52,
   "id": "82b79125",
   "metadata": {},
   "outputs": [
    {
     "data": {
      "text/plain": [
       "4823"
      ]
     },
     "execution_count": 52,
     "metadata": {},
     "output_type": "execute_result"
    }
   ],
   "source": [
    "data_test.shape[0]"
   ]
  },
  {
   "cell_type": "code",
   "execution_count": 53,
   "id": "d4a57384",
   "metadata": {},
   "outputs": [],
   "source": [
    "from sklearn.preprocessing import MinMaxScaler\n",
    "scaler = MinMaxScaler(feature_range=(0,1))"
   ]
  },
  {
   "cell_type": "code",
   "execution_count": 54,
   "id": "d564675e",
   "metadata": {},
   "outputs": [],
   "source": [
    "data_train_scale = scaler.fit_transform(data_train)"
   ]
  },
  {
   "cell_type": "code",
   "execution_count": 55,
   "id": "d07e2b9e",
   "metadata": {},
   "outputs": [],
   "source": [
    "x = []\n",
    "y = []\n",
    "\n",
    "for i in range(100, data_train_scale.shape[0]):\n",
    "    x.append(data_train_scale[i-100:i])\n",
    "    y.append(data_train_scale[i,0])"
   ]
  },
  {
   "cell_type": "code",
   "execution_count": 56,
   "id": "cd52a9e0",
   "metadata": {},
   "outputs": [],
   "source": [
    "import numpy as np\n",
    "x, y = np.array(x), np.array(y)"
   ]
  },
  {
   "cell_type": "code",
   "execution_count": 57,
   "id": "4acfba41",
   "metadata": {},
   "outputs": [
    {
     "name": "stdout",
     "output_type": "stream",
     "text": [
      "WARNING:tensorflow:From C:\\Users\\Legion 5\\anaconda3\\Lib\\site-packages\\keras\\src\\losses.py:2976: The name tf.losses.sparse_softmax_cross_entropy is deprecated. Please use tf.compat.v1.losses.sparse_softmax_cross_entropy instead.\n",
      "\n"
     ]
    }
   ],
   "source": [
    "from keras.layers import Dense, Dropout, LSTM\n",
    "from keras.models import Sequential"
   ]
  },
  {
   "cell_type": "code",
   "execution_count": 58,
   "id": "e6b98cba",
   "metadata": {},
   "outputs": [
    {
     "name": "stdout",
     "output_type": "stream",
     "text": [
      "WARNING:tensorflow:From C:\\Users\\Legion 5\\anaconda3\\Lib\\site-packages\\keras\\src\\backend.py:873: The name tf.get_default_graph is deprecated. Please use tf.compat.v1.get_default_graph instead.\n",
      "\n"
     ]
    }
   ],
   "source": [
    "model = Sequential()\n",
    "model.add(LSTM(units = 50, activation = 'relu', return_sequences = True,\n",
    "               input_shape = ((x.shape[1],1))))\n",
    "model.add(Dropout(0.2))\n",
    "\n",
    "model.add(LSTM(units = 60, activation='relu', return_sequences = True))\n",
    "model.add(Dropout(0.3))\n",
    "\n",
    "model.add(LSTM(units = 80, activation = 'relu', return_sequences = True))\n",
    "model.add(Dropout(0.4))\n",
    "\n",
    "model.add(LSTM(units = 120, activation = 'relu'))\n",
    "model.add(Dropout(0.5))\n",
    "\n",
    "model.add(Dense(units =1))"
   ]
  },
  {
   "cell_type": "code",
   "execution_count": 59,
   "id": "c90e49ac",
   "metadata": {},
   "outputs": [
    {
     "name": "stdout",
     "output_type": "stream",
     "text": [
      "WARNING:tensorflow:From C:\\Users\\Legion 5\\anaconda3\\Lib\\site-packages\\keras\\src\\optimizers\\__init__.py:309: The name tf.train.Optimizer is deprecated. Please use tf.compat.v1.train.Optimizer instead.\n",
      "\n"
     ]
    }
   ],
   "source": [
    "model.compile(optimizer = 'adam', loss = 'mean_squared_error')"
   ]
  },
  {
   "cell_type": "code",
   "execution_count": 60,
   "id": "96f2abb7",
   "metadata": {},
   "outputs": [
    {
     "name": "stdout",
     "output_type": "stream",
     "text": [
      "Epoch 1/50\n",
      "WARNING:tensorflow:From C:\\Users\\Legion 5\\anaconda3\\Lib\\site-packages\\keras\\src\\utils\\tf_utils.py:492: The name tf.ragged.RaggedTensorValue is deprecated. Please use tf.compat.v1.ragged.RaggedTensorValue instead.\n",
      "\n",
      "600/600 [==============================] - 63s 97ms/step - loss: 0.0060\n",
      "Epoch 2/50\n",
      "600/600 [==============================] - 60s 100ms/step - loss: 0.0017\n",
      "Epoch 3/50\n",
      "600/600 [==============================] - 61s 102ms/step - loss: 0.0015\n",
      "Epoch 4/50\n",
      "600/600 [==============================] - 65s 109ms/step - loss: 0.0015\n",
      "Epoch 5/50\n",
      "600/600 [==============================] - 183s 306ms/step - loss: 0.0013\n",
      "Epoch 6/50\n",
      "600/600 [==============================] - 81s 134ms/step - loss: 0.0013\n",
      "Epoch 7/50\n",
      "600/600 [==============================] - 70s 116ms/step - loss: 0.0014\n",
      "Epoch 8/50\n",
      "600/600 [==============================] - 72s 119ms/step - loss: 0.0014\n",
      "Epoch 9/50\n",
      "600/600 [==============================] - 66s 109ms/step - loss: 0.0013\n",
      "Epoch 10/50\n",
      "600/600 [==============================] - 69s 115ms/step - loss: 0.0014\n",
      "Epoch 11/50\n",
      "600/600 [==============================] - 66s 111ms/step - loss: 0.0012\n",
      "Epoch 12/50\n",
      "600/600 [==============================] - 63s 106ms/step - loss: 0.0013\n",
      "Epoch 13/50\n",
      "600/600 [==============================] - 62s 104ms/step - loss: 0.0013\n",
      "Epoch 14/50\n",
      "600/600 [==============================] - 62s 103ms/step - loss: 0.0013\n",
      "Epoch 15/50\n",
      "600/600 [==============================] - 65s 108ms/step - loss: 0.0013\n",
      "Epoch 16/50\n",
      "600/600 [==============================] - 68s 113ms/step - loss: 0.0013\n",
      "Epoch 17/50\n",
      "600/600 [==============================] - 67s 112ms/step - loss: 0.0012\n",
      "Epoch 18/50\n",
      "600/600 [==============================] - 64s 106ms/step - loss: 0.0012\n",
      "Epoch 19/50\n",
      "600/600 [==============================] - 64s 107ms/step - loss: 0.0012\n",
      "Epoch 20/50\n",
      "600/600 [==============================] - 65s 108ms/step - loss: 0.0012\n",
      "Epoch 21/50\n",
      "600/600 [==============================] - 64s 107ms/step - loss: 0.0012\n",
      "Epoch 22/50\n",
      "600/600 [==============================] - 64s 106ms/step - loss: 0.0012\n",
      "Epoch 23/50\n",
      "600/600 [==============================] - 66s 110ms/step - loss: 0.0012\n",
      "Epoch 24/50\n",
      "600/600 [==============================] - 69s 115ms/step - loss: 0.0012\n",
      "Epoch 25/50\n",
      "600/600 [==============================] - 74s 123ms/step - loss: 0.0012\n",
      "Epoch 26/50\n",
      "600/600 [==============================] - 63s 105ms/step - loss: 0.0012\n",
      "Epoch 27/50\n",
      "600/600 [==============================] - 64s 107ms/step - loss: 0.0012\n",
      "Epoch 28/50\n",
      "600/600 [==============================] - 65s 108ms/step - loss: 0.0012\n",
      "Epoch 29/50\n",
      "600/600 [==============================] - 63s 105ms/step - loss: 0.0011\n",
      "Epoch 30/50\n",
      "600/600 [==============================] - 64s 107ms/step - loss: 0.0012\n",
      "Epoch 31/50\n",
      "600/600 [==============================] - 66s 110ms/step - loss: 0.0012\n",
      "Epoch 32/50\n",
      "600/600 [==============================] - 66s 110ms/step - loss: 0.0012\n",
      "Epoch 33/50\n",
      "600/600 [==============================] - 66s 109ms/step - loss: 0.0011\n",
      "Epoch 34/50\n",
      "600/600 [==============================] - 65s 108ms/step - loss: 0.0011\n",
      "Epoch 35/50\n",
      "600/600 [==============================] - 73s 121ms/step - loss: 0.0011\n",
      "Epoch 36/50\n",
      "600/600 [==============================] - 74s 124ms/step - loss: 0.0011\n",
      "Epoch 37/50\n",
      "600/600 [==============================] - 72s 120ms/step - loss: 0.0011\n",
      "Epoch 38/50\n",
      "600/600 [==============================] - 83s 139ms/step - loss: 0.0012\n",
      "Epoch 39/50\n",
      "600/600 [==============================] - 79s 132ms/step - loss: 0.0011\n",
      "Epoch 40/50\n",
      "600/600 [==============================] - 69s 115ms/step - loss: 0.0011\n",
      "Epoch 41/50\n",
      "600/600 [==============================] - 83s 138ms/step - loss: 0.0011\n",
      "Epoch 42/50\n",
      "600/600 [==============================] - 71s 118ms/step - loss: 0.0011\n",
      "Epoch 43/50\n",
      "600/600 [==============================] - 87s 144ms/step - loss: 0.0012\n",
      "Epoch 44/50\n",
      "600/600 [==============================] - 85s 141ms/step - loss: 0.0011\n",
      "Epoch 45/50\n",
      "600/600 [==============================] - 63s 106ms/step - loss: 0.0011\n",
      "Epoch 46/50\n",
      "600/600 [==============================] - 67s 112ms/step - loss: 0.0012\n",
      "Epoch 47/50\n",
      "600/600 [==============================] - 103s 172ms/step - loss: 0.0011\n",
      "Epoch 48/50\n",
      "600/600 [==============================] - 157s 261ms/step - loss: 0.0011\n",
      "Epoch 49/50\n",
      "600/600 [==============================] - 157s 262ms/step - loss: 0.0011\n",
      "Epoch 50/50\n",
      "600/600 [==============================] - 159s 265ms/step - loss: 0.0011\n"
     ]
    },
    {
     "data": {
      "text/plain": [
       "<keras.src.callbacks.History at 0x2d79e1aee90>"
      ]
     },
     "execution_count": 60,
     "metadata": {},
     "output_type": "execute_result"
    }
   ],
   "source": [
    "model.fit(x,y, epochs = 50, batch_size =32, verbose =1)"
   ]
  },
  {
   "cell_type": "code",
   "execution_count": 61,
   "id": "ea74715e",
   "metadata": {},
   "outputs": [
    {
     "name": "stdout",
     "output_type": "stream",
     "text": [
      "Model: \"sequential\"\n",
      "_________________________________________________________________\n",
      " Layer (type)                Output Shape              Param #   \n",
      "=================================================================\n",
      " lstm (LSTM)                 (None, 100, 50)           10400     \n",
      "                                                                 \n",
      " dropout (Dropout)           (None, 100, 50)           0         \n",
      "                                                                 \n",
      " lstm_1 (LSTM)               (None, 100, 60)           26640     \n",
      "                                                                 \n",
      " dropout_1 (Dropout)         (None, 100, 60)           0         \n",
      "                                                                 \n",
      " lstm_2 (LSTM)               (None, 100, 80)           45120     \n",
      "                                                                 \n",
      " dropout_2 (Dropout)         (None, 100, 80)           0         \n",
      "                                                                 \n",
      " lstm_3 (LSTM)               (None, 120)               96480     \n",
      "                                                                 \n",
      " dropout_3 (Dropout)         (None, 120)               0         \n",
      "                                                                 \n",
      " dense (Dense)               (None, 1)                 121       \n",
      "                                                                 \n",
      "=================================================================\n",
      "Total params: 178761 (698.29 KB)\n",
      "Trainable params: 178761 (698.29 KB)\n",
      "Non-trainable params: 0 (0.00 Byte)\n",
      "_________________________________________________________________\n"
     ]
    }
   ],
   "source": [
    "model.summary()"
   ]
  },
  {
   "cell_type": "code",
   "execution_count": 62,
   "id": "d418c7c1",
   "metadata": {},
   "outputs": [],
   "source": [
    "pas_100_days = data_train.tail(100)"
   ]
  },
  {
   "cell_type": "code",
   "execution_count": 63,
   "id": "6bcba4b6",
   "metadata": {},
   "outputs": [],
   "source": [
    "data_test = pd.concat([pas_100_days, data_test], ignore_index=True)"
   ]
  },
  {
   "cell_type": "code",
   "execution_count": 64,
   "id": "1f2c5dc4",
   "metadata": {},
   "outputs": [],
   "source": [
    "data_test_scale  =  scaler.fit_transform(data_test)"
   ]
  },
  {
   "cell_type": "code",
   "execution_count": 65,
   "id": "70809353",
   "metadata": {},
   "outputs": [],
   "source": [
    "x = []\n",
    "y = []\n",
    "\n",
    "for i in range(100, data_test_scale.shape[0]):\n",
    "    x.append(data_test_scale[i-100:i])\n",
    "    y.append(data_test_scale[i,0])\n",
    "x, y = np.array(x), np.array(y)"
   ]
  },
  {
   "cell_type": "code",
   "execution_count": 66,
   "id": "41c6fd7b",
   "metadata": {},
   "outputs": [
    {
     "name": "stdout",
     "output_type": "stream",
     "text": [
      "151/151 [==============================] - 5s 32ms/step\n"
     ]
    }
   ],
   "source": [
    "y_predict = model.predict(x)"
   ]
  },
  {
   "cell_type": "code",
   "execution_count": 67,
   "id": "2677ed0d",
   "metadata": {},
   "outputs": [],
   "source": [
    "scale =1/scaler.scale_"
   ]
  },
  {
   "cell_type": "code",
   "execution_count": 68,
   "id": "e41dc770",
   "metadata": {},
   "outputs": [],
   "source": [
    "y_predict = y_predict*scale"
   ]
  },
  {
   "cell_type": "code",
   "execution_count": 69,
   "id": "ee8d6e92",
   "metadata": {},
   "outputs": [],
   "source": [
    "y = y*scale"
   ]
  },
  {
   "cell_type": "code",
   "execution_count": 70,
   "id": "4e631ff7",
   "metadata": {},
   "outputs": [
    {
     "data": {
      "image/png": "[encoded data removed]",
      "text/plain": [
       "<Figure size 1000x800 with 1 Axes>"
      ]
     },
     "metadata": {},
     "output_type": "display_data"
    }
   ],
   "source": [
    "plt.figure(figsize=(10,8))\n",
    "plt.plot(y_predict, 'r', label = 'Predicted Price')\n",
    "plt.plot(y, 'g', label = 'Original Price')\n",
    "plt.xlabel('Time')\n",
    "plt.ylabel('Price')\n",
    "plt.legend()\n",
    "plt.show()"
   ]
  },
  {
   "cell_type": "code",
   "execution_count": 71,
   "id": "1c2cd850",
   "metadata": {},
   "outputs": [],
   "source": [
    "model.save('Stock Predictions Model.keras')"
   ]
  },
  {
   "cell_type": "code",
   "execution_count": null,
   "id": "d4068153",
   "metadata": {},
   "outputs": [],
   "source": []
  }
 ],
 "metadata": {
  "kernelspec": {
   "display_name": "Python 3 (ipykernel)",
   "language": "python",
   "name": "python3"
  },
  "language_info": {
   "codemirror_mode": {
    "name": "ipython",
    "version": 3
   },
   "file_extension": ".py",
   "mimetype": "text/x-python",
   "name": "python",
   "nbconvert_exporter": "python",
   "pygments_lexer": "ipython3",
   "version": "3.11.5"
  }
 },
 "nbformat": 4,
 "nbformat_minor": 5
}
